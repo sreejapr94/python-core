{
 "cells": [
  {
   "cell_type": "code",
   "execution_count": 1,
   "id": "8e327852",
   "metadata": {
    "scrolled": false
   },
   "outputs": [],
   "source": [
    "class employee:\n",
    "    \n",
    "    \n",
    "    def associate(self,email):\n",
    "        print(email)\n",
    "        \n",
    "        print(\"Basic\") \n",
    "        \n",
    "        \n",
    "    def senior(self,fname):\n",
    "        print(fname)\n",
    "        print(\"Intermediate\")\n",
    "        \n",
    "    def L1(self):\n",
    "        print(\"Premium\")\n",
    "\n",
    "    \n",
    "\n",
    "        "
   ]
  },
  {
   "cell_type": "code",
   "execution_count": 2,
   "id": "6f550eb0",
   "metadata": {
    "scrolled": true
   },
   "outputs": [
    {
     "name": "stdout",
     "output_type": "stream",
     "text": [
      "ABC@GNMAIL.COM\n",
      "Basic\n"
     ]
    }
   ],
   "source": [
    "N123 = employee()\n",
    "\n",
    "\n",
    "#employee.associate(N123)\n",
    "#employee.senior(N234)\n",
    "\n",
    "N123.associate(\"ABC@GNMAIL.COM\")"
   ]
  },
  {
   "cell_type": "code",
   "execution_count": 3,
   "id": "1b536422",
   "metadata": {},
   "outputs": [
    {
     "name": "stdout",
     "output_type": "stream",
     "text": [
      "SAM\n",
      "Intermediate\n"
     ]
    }
   ],
   "source": [
    "N234 = employee()\n",
    "N234.senior(\"SAM\")"
   ]
  },
  {
   "cell_type": "code",
   "execution_count": 4,
   "id": "74a9489e",
   "metadata": {
    "scrolled": true
   },
   "outputs": [
    {
     "ename": "NameError",
     "evalue": "name 'a' is not defined",
     "output_type": "error",
     "traceback": [
      "\u001b[0;31m---------------------------------------------------------------------------\u001b[0m",
      "\u001b[0;31mNameError\u001b[0m                                 Traceback (most recent call last)",
      "\u001b[0;32m/var/folders/1z/cg3wnq050fn_7dl4rd8bccpw0000gn/T/ipykernel_11707/1891828405.py\u001b[0m in \u001b[0;36m<module>\u001b[0;34m\u001b[0m\n\u001b[0;32m----> 1\u001b[0;31m \u001b[0mprint\u001b[0m\u001b[0;34m(\u001b[0m\u001b[0mtype\u001b[0m\u001b[0;34m(\u001b[0m\u001b[0ma\u001b[0m\u001b[0;34m)\u001b[0m\u001b[0;34m)\u001b[0m\u001b[0;34m\u001b[0m\u001b[0;34m\u001b[0m\u001b[0m\n\u001b[0m",
      "\u001b[0;31mNameError\u001b[0m: name 'a' is not defined"
     ]
    }
   ],
   "source": [
    "print(type(a))"
   ]
  },
  {
   "cell_type": "code",
   "execution_count": null,
   "id": "980df073",
   "metadata": {},
   "outputs": [],
   "source": []
  },
  {
   "cell_type": "code",
   "execution_count": null,
   "id": "2e08ebed",
   "metadata": {
    "scrolled": true
   },
   "outputs": [],
   "source": [
    "employee.config(emp1)"
   ]
  },
  {
   "cell_type": "code",
   "execution_count": null,
   "id": "4a48eefb",
   "metadata": {},
   "outputs": [],
   "source": [
    "emp1 = employee()\n",
    "emp2 = employee()\n",
    "emp3 = employee()\n",
    "emp1.config()\n",
    "emp2.config2()\n"
   ]
  },
  {
   "cell_type": "code",
   "execution_count": null,
   "id": "d265923f",
   "metadata": {
    "scrolled": false
   },
   "outputs": [],
   "source": [
    "#employee.config()\n",
    "employee.config(emp1)"
   ]
  },
  {
   "cell_type": "code",
   "execution_count": null,
   "id": "46b3fcc9",
   "metadata": {
    "scrolled": true
   },
   "outputs": [],
   "source": [
    "print(type(emp1))"
   ]
  },
  {
   "cell_type": "code",
   "execution_count": null,
   "id": "e88c6b6b",
   "metadata": {
    "scrolled": true
   },
   "outputs": [],
   "source": [
    "n = 5\n",
    "a = \"abc\"\n",
    "\n",
    "print(type(a))"
   ]
  },
  {
   "cell_type": "code",
   "execution_count": null,
   "id": "78e2873b",
   "metadata": {
    "scrolled": true
   },
   "outputs": [],
   "source": [
    "a = [ \"sreeja\",34,43]\n",
    "\n",
    "print(type(a))\n",
    "a.append(5)\n",
    "a"
   ]
  },
  {
   "cell_type": "code",
   "execution_count": null,
   "id": "ae8d984c",
   "metadata": {
    "scrolled": true
   },
   "outputs": [],
   "source": [
    "emp1.config()\n",
    "emp2.config()"
   ]
  },
  {
   "cell_type": "code",
   "execution_count": null,
   "id": "6c4bc64c",
   "metadata": {},
   "outputs": [],
   "source": [
    "class employee:\n",
    "    \n",
    "    def config(self):\n",
    "        print(\"Sreeja,Data Analyst,Kochi\")     \n",
    "\n",
    "e1 = employee()\n",
    "e2 = employee()\n",
    "\n",
    "e1.config()\n",
    "\n",
    "employee.config(e1)"
   ]
  },
  {
   "cell_type": "code",
   "execution_count": null,
   "id": "39924049",
   "metadata": {
    "scrolled": true
   },
   "outputs": [],
   "source": [
    "emp1.config()"
   ]
  },
  {
   "cell_type": "code",
   "execution_count": null,
   "id": "d5860c22",
   "metadata": {
    "scrolled": true
   },
   "outputs": [],
   "source": [
    "emp2.config()"
   ]
  },
  {
   "cell_type": "markdown",
   "id": "42143a0e",
   "metadata": {},
   "source": [
    "### Constuctor"
   ]
  },
  {
   "cell_type": "code",
   "execution_count": null,
   "id": "4ba0667b",
   "metadata": {},
   "outputs": [],
   "source": []
  },
  {
   "cell_type": "code",
   "execution_count": null,
   "id": "bb284bc1",
   "metadata": {
    "scrolled": true
   },
   "outputs": [],
   "source": [
    "class customer:\n",
    "    \n",
    "    def __init__(self):\n",
    "        #print(\"Normal Users\")\n",
    "        print(\"CHAT\")\n",
    "        self.e=input(\"enter email:\")\n",
    "        self.ps=input(\"enter password:\")\n",
    "        self.ph= input(\"enter phone:\")\n",
    "      \n",
    "    def display(self):\n",
    "        print(\"email:\", self.e)\n",
    "        print(\"phone:\",self.ph)\n",
    "        \n",
    "    def SP(self):\n",
    "       # print(\"Silver Plan\")\n",
    "        print(\"voice call\")\n",
    "        \n",
    "    def GP(self):\n",
    "       # print(\"Gold Plan\")\n",
    "        \n",
    "        print(\"voice call\")\n",
    "        print(\"video call\")\n"
   ]
  },
  {
   "cell_type": "code",
   "execution_count": null,
   "id": "bc7b32e4",
   "metadata": {
    "scrolled": true
   },
   "outputs": [],
   "source": [
    "C1= customer()\n"
   ]
  },
  {
   "cell_type": "code",
   "execution_count": null,
   "id": "99f73b81",
   "metadata": {},
   "outputs": [],
   "source": [
    "C1.SP()"
   ]
  },
  {
   "cell_type": "markdown",
   "id": "23a0f028",
   "metadata": {},
   "source": []
  },
  {
   "cell_type": "code",
   "execution_count": null,
   "id": "6f35d119",
   "metadata": {},
   "outputs": [],
   "source": [
    "class employee:\n",
    "    \n",
    "    def __init__(self,a,b):\n",
    "        self.name = a\n",
    "        self.title = b\n",
    "        print(a,b)\n",
    "        pass\n",
    "\n",
    "    def name1(self):\n",
    "        \n",
    "        print(\"employee name:\",self.name)\n",
    "        \n",
    "    def desgn(self):\n",
    "         print(\"employee designation:\",self.title)\n",
    "            \n",
    "\n",
    "        \n",
    "emp1  =  employee(\"Ann\",\"DA\")\n",
    "emp2  =  employee(\"Sruthy\",\"seo\")\n",
    "\n",
    "emp1.name1()\n",
    "emp1.desgn()\n",
    "\n",
    "emp2.desgn()"
   ]
  },
  {
   "cell_type": "code",
   "execution_count": null,
   "id": "41cac225",
   "metadata": {
    "scrolled": true
   },
   "outputs": [],
   "source": [
    "a = 4\n",
    "print(id(a))"
   ]
  },
  {
   "cell_type": "code",
   "execution_count": null,
   "id": "84bb364c",
   "metadata": {},
   "outputs": [],
   "source": [
    "c=a\n",
    "print(id(a))"
   ]
  },
  {
   "cell_type": "code",
   "execution_count": null,
   "id": "b2054d4c",
   "metadata": {},
   "outputs": [],
   "source": [
    "b = 5\n",
    "print(id(b))"
   ]
  },
  {
   "cell_type": "markdown",
   "id": "6ba436b1",
   "metadata": {},
   "source": [
    "### Memory allocation"
   ]
  },
  {
   "cell_type": "code",
   "execution_count": null,
   "id": "c76fee46",
   "metadata": {},
   "outputs": [],
   "source": [
    "class employee:\n",
    "    pass"
   ]
  },
  {
   "cell_type": "code",
   "execution_count": null,
   "id": "e489cc23",
   "metadata": {},
   "outputs": [],
   "source": [
    "a= employee()\n",
    "c= employee()"
   ]
  },
  {
   "cell_type": "code",
   "execution_count": null,
   "id": "70672ba0",
   "metadata": {
    "scrolled": true
   },
   "outputs": [],
   "source": [
    "print(type(a))"
   ]
  },
  {
   "cell_type": "code",
   "execution_count": null,
   "id": "c5058acc",
   "metadata": {},
   "outputs": [],
   "source": [
    "print(type(c))"
   ]
  },
  {
   "cell_type": "code",
   "execution_count": null,
   "id": "6715fd32",
   "metadata": {},
   "outputs": [],
   "source": [
    "b=a"
   ]
  },
  {
   "cell_type": "code",
   "execution_count": null,
   "id": "546f8c42",
   "metadata": {
    "scrolled": false
   },
   "outputs": [],
   "source": [
    "print(type(b))"
   ]
  },
  {
   "cell_type": "code",
   "execution_count": null,
   "id": "b1bf6ddd",
   "metadata": {
    "scrolled": true
   },
   "outputs": [],
   "source": [
    "print(id(a))"
   ]
  },
  {
   "cell_type": "code",
   "execution_count": null,
   "id": "032536a2",
   "metadata": {},
   "outputs": [],
   "source": [
    "print(id(b))"
   ]
  },
  {
   "cell_type": "code",
   "execution_count": null,
   "id": "4d846738",
   "metadata": {},
   "outputs": [],
   "source": [
    "print(id(c))"
   ]
  },
  {
   "cell_type": "code",
   "execution_count": null,
   "id": "752e6c1e",
   "metadata": {
    "scrolled": true
   },
   "outputs": [],
   "source": [
    "class employee:\n",
    "    pass\n",
    "\n",
    "        \n",
    "emp1 = employee()\n",
    "emp2 = employee()\n",
    "\n",
    "print(id(emp1))\n",
    "print(id(emp2))\n",
    "\n",
    "#emp1.config()\n",
    "\n",
    "#emp2.config()"
   ]
  },
  {
   "cell_type": "code",
   "execution_count": null,
   "id": "77a519e4",
   "metadata": {},
   "outputs": [],
   "source": []
  },
  {
   "cell_type": "code",
   "execution_count": null,
   "id": "e6203f3a",
   "metadata": {},
   "outputs": [],
   "source": [
    "class employee:\n",
    "    def config(self):\n",
    "        print(\"Sreeja,Data Analyst,Cochi\")      \n",
    "        \n",
    "        \n",
    "emp1 = employee()\n",
    "emp2 = employee()\n",
    "\n",
    "\n",
    "print(id(emp1))\n",
    "print(id(emp2))"
   ]
  },
  {
   "cell_type": "markdown",
   "id": "f4f8e95a",
   "metadata": {},
   "source": [
    "### Need of self"
   ]
  },
  {
   "cell_type": "code",
   "execution_count": null,
   "id": "490df9ec",
   "metadata": {},
   "outputs": [],
   "source": [
    "class employee:\n",
    "    def __init__(self):\n",
    "        self.a = input(\"name:\")\n",
    "        self.b = input(\"des:\")\n",
    "   \n",
    "    def display(self):\n",
    "        print(\"name&des:\",self.a,self.b)\n",
    "        \n",
    "    def compare(self,other):\n",
    "        if self.a.lower()==other.a.lower() and self.b.lower()==other.b.lower():\n",
    "            print(\"same\")\n",
    "            \n",
    "        else:\n",
    "            print(\"different\")"
   ]
  },
  {
   "cell_type": "code",
   "execution_count": null,
   "id": "7d57d94d",
   "metadata": {
    "scrolled": false
   },
   "outputs": [],
   "source": [
    "emp1 = employee()\n",
    "emp2 = employee()\n",
    "\n"
   ]
  },
  {
   "cell_type": "code",
   "execution_count": null,
   "id": "ccaa4d71",
   "metadata": {},
   "outputs": [],
   "source": [
    "emp1.compare(emp2)"
   ]
  },
  {
   "cell_type": "code",
   "execution_count": null,
   "id": "198791a4",
   "metadata": {},
   "outputs": [],
   "source": [
    "class employee:\n",
    "    def __init__(self):\n",
    "        self.name = \"Sreeja\"\n",
    "        self.age = 25\n",
    "        \n",
    "    def update(self):\n",
    "        self.age = 28\n",
    "\n",
    "emp1 = employee()\n",
    "emp2 = employee()\n",
    "\n",
    "#emp1.name = \"Sruthy\"\n",
    "\n",
    "emp2.update()\n",
    "print(emp1.name, emp1.age)\n",
    "print(emp2.name, emp2.age)"
   ]
  },
  {
   "cell_type": "code",
   "execution_count": null,
   "id": "93dd075a",
   "metadata": {},
   "outputs": [],
   "source": [
    "class employee:\n",
    "    def __init__(self):\n",
    "        self.school = \"Techmindz\"\n",
    "        self.location = \"Kochi\"\n",
    "   \n",
    "    def config(self):\n",
    "        print(\"school:\",self.school,self.location)\n",
    "        \n",
    "    def update(self):\n",
    "        self.location = \"Tvm\"\n",
    "        #print(\"school:\",self.school,self.location)\n",
    "        \n",
    "    def compare(self,other):\n",
    "        if self.location==other.location:\n",
    "            return True\n",
    "        \n",
    "\n",
    "emp1 = employee()\n",
    "emp2 = employee()\n",
    "emp3 = employee()\n",
    "\n",
    "#emp1.config()\n",
    "#emp2.config()\n",
    "\n",
    "emp3.update()\n",
    "#emp3.config()\n",
    "\n",
    "if emp1.compare(emp3):\n",
    "    print(\"Same location\")\n",
    "else:\n",
    "    print(\"diff location\")\n",
    "\n"
   ]
  },
  {
   "cell_type": "code",
   "execution_count": null,
   "id": "be62326f",
   "metadata": {},
   "outputs": [],
   "source": [
    "a= 5\n",
    "b=5\n",
    "\n",
    "if a== b:\n",
    "    print(\"same\")"
   ]
  },
  {
   "cell_type": "code",
   "execution_count": null,
   "id": "feedd9cf",
   "metadata": {},
   "outputs": [],
   "source": [
    "class employee:\n",
    "    def __init__(self):\n",
    "        self.name = \"Sreeja\"\n",
    "        self.age = 25\n",
    "    # def update(self):\n",
    "    #    self.age = 28\n",
    "    \n",
    "emp1 = employee()\n",
    "emp2 = employee()\n",
    "\n",
    "if emp1 == emp2:\n",
    "    print(\"they are same\")\n",
    "\n"
   ]
  },
  {
   "cell_type": "code",
   "execution_count": null,
   "id": "0f5e0e0f",
   "metadata": {
    "scrolled": true
   },
   "outputs": [],
   "source": [
    "class employee:\n",
    "    def __init__(self):\n",
    "        self.name = \"Sreeja\"\n",
    "        self.age = 25\n",
    "    def update(self):\n",
    "        self.age = 28\n",
    "\n",
    "emp1 = employee()\n",
    "emp2 = employee()\n",
    "\n",
    "if emp1.compare(emp2) :\n",
    "    print(\"they are same\")\n",
    "\n"
   ]
  },
  {
   "cell_type": "code",
   "execution_count": null,
   "id": "046f799c",
   "metadata": {},
   "outputs": [],
   "source": [
    "class employee:\n",
    "    def __init__(self):\n",
    "        self.name = \"Sreeja\"\n",
    "        self.age = 25\n",
    "    def update(self):\n",
    "        self.age = 28\n",
    "        \n",
    "    def compare(self,other):\n",
    "        if self.age == other.age:\n",
    "            return True\n",
    "        else:\n",
    "            return False\n",
    "\n",
    "\n",
    "emp1 = employee()\n",
    "emp2 = employee()\n",
    "\n",
    "emp2.update()\n",
    "\n",
    "#print(emp1.name, emp1.age)\n",
    "#print(emp2.name, emp2.age)\n",
    "\n",
    "if emp1.compare(emp2):\n",
    "    print(\"they are same\")\n",
    "else:\n",
    "    print(\"they are different\")\n",
    "\n",
    "    "
   ]
  },
  {
   "cell_type": "code",
   "execution_count": null,
   "id": "fd72013b",
   "metadata": {},
   "outputs": [],
   "source": [
    "class employee:\n",
    "    def __init__(self, name, age):\n",
    "        self.name = name\n",
    "        self.age = age\n",
    "\n",
    "    def compare(self,emp):\n",
    "        if self.age == emp.age:\n",
    "            return True\n",
    "        else:\n",
    "            return False\n",
    "\n",
    "\n",
    "emp1 = employee(\"Sreeja\",25)\n",
    "#emp1.age = 28\n",
    "emp2 = employee(\"Sruthy\", 21)\n",
    "\n",
    "if emp1.compare(emp2):\n",
    "    print(\"they are same\")\n",
    "else:\n",
    "    print(\"they are different\")"
   ]
  },
  {
   "cell_type": "code",
   "execution_count": null,
   "id": "13edc9d7",
   "metadata": {},
   "outputs": [],
   "source": [
    "\"sreeja\"+\"P R\""
   ]
  },
  {
   "cell_type": "markdown",
   "id": "f13f7856",
   "metadata": {},
   "source": [
    "### Variable types\n",
    "\n",
    "#### Instance variable : Create a variable inside init\n",
    "#### Class(static) variable : Create a variable outside init and inside a class"
   ]
  },
  {
   "cell_type": "code",
   "execution_count": null,
   "id": "8d6c2903",
   "metadata": {},
   "outputs": [],
   "source": [
    "class animal():\n",
    "    kingdom = \"Animalia\" # Class variable  \n",
    "    print(kingdom)\n",
    "    \n",
    "    def human(self):\n",
    "        Class = \"mammals\" # Local variable\n",
    "        return Class\n",
    "        \n",
    "    def snake(self):\n",
    "        Class =  \"reptiles\"\n",
    "        return Class\n",
    "        \n",
    "\n",
    "    def birds(self):\n",
    "        Class =  \"Birds\"\n",
    "        return Class\n"
   ]
  },
  {
   "cell_type": "code",
   "execution_count": null,
   "id": "26f38f60",
   "metadata": {},
   "outputs": [],
   "source": [
    "print(animal.kingdom)\n",
    "a = animal()\n",
    "a.human()"
   ]
  },
  {
   "cell_type": "code",
   "execution_count": null,
   "id": "31a1fe55",
   "metadata": {},
   "outputs": [],
   "source": [
    "b = animal()\n",
    "b.birds()"
   ]
  },
  {
   "cell_type": "code",
   "execution_count": null,
   "id": "d7704326",
   "metadata": {
    "scrolled": false
   },
   "outputs": [],
   "source": [
    "class employee:\n",
    "    \n",
    "        company=\"Techmindz\"\n",
    "        \n",
    "        def __init__(self,name,des):\n",
    "            self.location =\"Kochi\"\n",
    "            self.name = name\n",
    "            self.des = des        \n",
    "        def associate(self):\n",
    "            leaves=10\n",
    "            return(leaves)\n",
    "        def senior(self):\n",
    "            leaves=13\n",
    "            return(leaves)\n",
    "        def manager(self):\n",
    "            leaves=15\n",
    "            return(leaves)\n",
    "                   \n",
    "                   \n",
    "        def display(self):\n",
    "            return self.name,self.des,self.location\n",
    "        \n"
   ]
  },
  {
   "cell_type": "code",
   "execution_count": null,
   "id": "66576dba",
   "metadata": {},
   "outputs": [],
   "source": [
    "print(employee.company)"
   ]
  },
  {
   "cell_type": "code",
   "execution_count": null,
   "id": "7aac2cbb",
   "metadata": {
    "scrolled": true
   },
   "outputs": [],
   "source": [
    "a = input(\"Name:\")\n",
    "b = input(\"Designation:\")\n",
    "\n",
    "e1= employee(a,b)"
   ]
  },
  {
   "cell_type": "code",
   "execution_count": null,
   "id": "ba278d83",
   "metadata": {
    "scrolled": false
   },
   "outputs": [],
   "source": [
    "e1.senior()"
   ]
  },
  {
   "cell_type": "code",
   "execution_count": null,
   "id": "c547fb00",
   "metadata": {},
   "outputs": [],
   "source": [
    "e1.name"
   ]
  },
  {
   "cell_type": "code",
   "execution_count": null,
   "id": "ac85ca87",
   "metadata": {},
   "outputs": [],
   "source": [
    "class car:\n",
    "    \n",
    "    def __init__(self):\n",
    "        self.mile = 10\n",
    "        self.company = \"BMW\"\n",
    "        \n",
    "c1 = car()\n",
    "c2 = car()\n",
    "\n",
    "c1.mile = 8\n",
    "c2.company = \"TATA\"\n",
    "print(c1.company, c1.mile)\n",
    "print(c2.company,c2.mile)"
   ]
  },
  {
   "cell_type": "code",
   "execution_count": null,
   "id": "a375a7c2",
   "metadata": {},
   "outputs": [],
   "source": [
    "class car:\n",
    "    wheels = 4\n",
    "    def __init__(self):\n",
    "        self.mile = 10\n",
    "        self.company = \"BMW\"\n",
    "    \n",
    "        \n",
    "c1 = car()\n",
    "c2 = car()\n",
    "\n",
    "c2.mile = 8\n",
    "\n",
    "\n",
    "print(c1.company, c1.mile, car.wheels)\n",
    "print(c2.company,c2.mile,c1.wheels)\n",
    "car.wheels = 5\n",
    "\n",
    "print(c2.company,c2.mile,c1.wheels)\n"
   ]
  },
  {
   "cell_type": "code",
   "execution_count": null,
   "id": "5342c57d",
   "metadata": {},
   "outputs": [],
   "source": [
    "class car:\n",
    "    \n",
    "    wheels = 4\n",
    "    def __init__(self):\n",
    "        self.mile = 10\n",
    "        self.company = \"BMW\"\n",
    "        \n",
    "c1 = car()\n",
    "c2 = car()\n",
    "\n",
    "car.wheels = 5\n",
    "\n",
    "print(c1.company, c1.mile, car.wheels)\n",
    "print(c2.company,c2.mile,car.wheels)"
   ]
  },
  {
   "cell_type": "code",
   "execution_count": null,
   "id": "58ed4b2f",
   "metadata": {},
   "outputs": [],
   "source": [
    "class car:\n",
    "    wheels = 4\n",
    "    def __init__(self):\n",
    "        self.mile = 10\n",
    "        self.company = \"BMW\"\n",
    "        \n",
    "c1 = car()\n",
    "c2 = car()\n",
    "\n",
    "car.wheels = 5\n",
    "\n",
    "print(c1.company, c1.mile, car.wheels)\n",
    "print(c2.company,c2.mile,car.wheels)"
   ]
  },
  {
   "cell_type": "markdown",
   "id": "2106c0d0",
   "metadata": {},
   "source": [
    "### Method Types\n",
    "#### Instance method: it works with objects\n",
    "         Accessors methods: If we are only fetching the value using a method\n",
    "         \n",
    "         Mutators methods: If we want to modify the value using a method"
   ]
  },
  {
   "cell_type": "code",
   "execution_count": null,
   "id": "2afc4709",
   "metadata": {
    "scrolled": false
   },
   "outputs": [],
   "source": [
    "class students:\n",
    "    school = \"techmindz\" \n",
    "\n",
    "    def __init__(self,m1,m2,m3):\n",
    "        self.m1 = m1\n",
    "        self.m2 = m2\n",
    "        self.m3 = m3\n",
    "    \n",
    "    def get_mark(self): # Accessors methods\n",
    "        return( \"assessment1:\",self.m1,\"assessment2:\",self.m2,\"assessment3:\",self.m3)\n",
    "   \n",
    "    def set_mark1(self,a): # Mutators methods\n",
    "        self.m1=a\n",
    "    def set_mark2(self,a): # Mutators methods\n",
    "        self.m2=a\n",
    "    def set_mark3(self,a): # Mutators methods\n",
    "        self.m3=a\n",
    "    \n",
    "    def sum_mark(self):\n",
    "        return(self.m1+self.m2+self.m3)\n",
    "    \n",
    "    def avg(self):\n",
    "         return (self.sum_mark()/3)\n"
   ]
  },
  {
   "cell_type": "code",
   "execution_count": null,
   "id": "5286f1c1",
   "metadata": {},
   "outputs": [],
   "source": [
    "s1=students(18,9,15)\n",
    "s1.get_mark()\n",
    "s1.set_mark2(14)\n",
    "s1.get_mark()"
   ]
  },
  {
   "cell_type": "code",
   "execution_count": null,
   "id": "3074938b",
   "metadata": {
    "scrolled": true
   },
   "outputs": [],
   "source": [
    "s1.sum_mark()"
   ]
  },
  {
   "cell_type": "code",
   "execution_count": null,
   "id": "69fd8fd2",
   "metadata": {},
   "outputs": [],
   "source": [
    "s1.avg()"
   ]
  },
  {
   "cell_type": "code",
   "execution_count": null,
   "id": "bfc0424d",
   "metadata": {},
   "outputs": [],
   "source": [
    "class students:\n",
    "    school = \"techmindz\"\n",
    "    def __init__(self,m1,m2,m3):\n",
    "        self.m1 = m1\n",
    "        self.m2 = m2\n",
    "        self.m3 = m3\n",
    "\n",
    "    def avg(self):\n",
    "        return (self.m1+self.m2+self.m3)/3\n",
    "    \n",
    "    def get_mark(self):                      # Accessors Method \n",
    "        return self.m1 , self.m2, self.m3\n",
    "    \n",
    "    def set_mark1(self, value):              # Mutators Method \n",
    "        self.m1 = value\n",
    "    def set_mark2(self, value):              # Mutators Method \n",
    "        self.m2 = value\n",
    "    def set_mark3(self, value):              # Mutators Method \n",
    "        self.m3 = value\n",
    "    \n",
    "s1 = students(12,34,56)\n",
    "s2 = students(34,45,32)\n",
    "\n",
    "\n",
    "s1.set_mark1(50)\n",
    "#s2.set_mark3(40)\n",
    "s1.get_mark()"
   ]
  },
  {
   "cell_type": "markdown",
   "id": "0f0e93dc",
   "metadata": {},
   "source": [
    "#### Class method"
   ]
  },
  {
   "cell_type": "code",
   "execution_count": null,
   "id": "6d093cbf",
   "metadata": {},
   "outputs": [],
   "source": [
    "class students:\n",
    "    school = \"techmindz\"\n",
    "    location = \"kochi\"\n",
    "    def __init__(self,id_num):\n",
    "        self.id=id_num\n",
    "        \n",
    "    def display(self):\n",
    "        return self.id,self.location\n",
    "    \n",
    "    \n",
    "    @classmethod\n",
    "    def get_info(cls):\n",
    "        return cls.school,cls.location\n",
    "   \n",
    "    @classmethod\n",
    "    def loc_chg(cls,a):\n",
    "        cls.location = a"
   ]
  },
  {
   "cell_type": "code",
   "execution_count": null,
   "id": "f8c36747",
   "metadata": {},
   "outputs": [],
   "source": [
    "s1= students(\"1234\")\n",
    "s1.display()"
   ]
  },
  {
   "cell_type": "code",
   "execution_count": null,
   "id": "1a3d68d3",
   "metadata": {},
   "outputs": [],
   "source": [
    "students.loc_chg(\"Tvm\")\n",
    "students.get_info()"
   ]
  },
  {
   "cell_type": "code",
   "execution_count": null,
   "id": "21a19f10",
   "metadata": {
    "scrolled": false
   },
   "outputs": [],
   "source": [
    "class students:\n",
    "    school = \"techmindz\"\n",
    "    location = \"kochi\"\n",
    "    def __init__(self,m1,m2,m3):\n",
    "        self.m1 = m1\n",
    "        self.m2 = m2\n",
    "        self.m3 = m3\n",
    "\n",
    "    def get_school(self):\n",
    "        return self.school,self.location # (self.m1+self.m2+self.m3)/3\n",
    "    \n",
    " \n",
    "    @classmethod\n",
    "    def get_school_details(cls):\n",
    "         return cls.school, cls.location\n",
    "   \n",
    "    @classmethod\n",
    "    def change_loc(cls,a):\n",
    "        cls.location=a\n",
    "\n",
    "        \n",
    "    \n",
    "students.change_loc(\"Tvm\")   \n",
    "print(students.get_school_details())  \n",
    "s1 = students(12,34,56)\n",
    "#s2 = students(34,45,32)\n",
    "\n",
    "\n",
    "print(s1.get_school())\n",
    "#print(s2.get_school())\n",
    "#print(students.get_school_details())\n"
   ]
  },
  {
   "cell_type": "markdown",
   "id": "aa86da14",
   "metadata": {},
   "source": [
    "#### Static method"
   ]
  },
  {
   "cell_type": "code",
   "execution_count": null,
   "id": "055a3d18",
   "metadata": {
    "scrolled": true
   },
   "outputs": [],
   "source": [
    "class students:\n",
    "    school = \"techmindz\"\n",
    "    location = \"kochi\"\n",
    "    \n",
    "    def __init__(self,m1,m2,m3):\n",
    "        self.m1 = m1\n",
    "        self.m2 = m2\n",
    "        self.m3 = m3\n",
    "\n",
    "    def avg(self):\n",
    "        return (self.m1+self.m2+self.m3)/3\n",
    "    \n",
    "    @classmethod\n",
    "    def get_school_details(cls):\n",
    "        return cls.school\n",
    "    \n",
    "    @staticmethod\n",
    "    def info():\n",
    "         return \"Welcome to Techmindz\"\n",
    "    \n",
    "\n",
    "    \n",
    "students.info()\n",
    "\n",
    "\n",
    "#s1 = students(12,34,56)\n",
    "\n",
    "#s2 = students(34,45,32)\n",
    "\n",
    "#print(s1.avg())\n",
    "#print(s2.avg())\n",
    "\n",
    "#print(students.get_school_details())\n"
   ]
  },
  {
   "cell_type": "markdown",
   "id": "92fd647f",
   "metadata": {},
   "source": [
    "## Inner Class"
   ]
  },
  {
   "cell_type": "code",
   "execution_count": null,
   "id": "8014aa9a",
   "metadata": {},
   "outputs": [],
   "source": [
    "class students:\n",
    "    school = \"techmindz\"\n",
    "    location = \"kochi\"\n",
    "    \n",
    "    def __init__(self,name,rollno):\n",
    "        self.name = name\n",
    "        self.rollno = rollno\n",
    "\n",
    "        \n",
    "        \n",
    "s1 = students(\"Sreeja\",34)\n",
    "s2 = students(\"Sruthy\",32)\n",
    "\n",
    "print(s1.name,s1.rollno)\n",
    "print(s2.name,s2.rollno)\n"
   ]
  },
  {
   "cell_type": "code",
   "execution_count": null,
   "id": "1fda45cc",
   "metadata": {},
   "outputs": [],
   "source": [
    "class students:\n",
    "    school = \"techmindz\"\n",
    "    location = \"kochi\"\n",
    "    \n",
    "    def __init__(self,name,rollno,brand):\n",
    "        self.name = name\n",
    "        self.rollno = rollno\n",
    "        self.lap = brand\n",
    "\n",
    "    def show(self):\n",
    "        print(self.name, self.rollno,self.lap)\n",
    "        \n",
    "        \n",
    "s1 = students(\"Sreeja\",34,\"hp\")\n",
    "s2 = students(\"Sruthy\",32,\"lenovo\")\n",
    "\n",
    "s1.show()\n",
    "s2.show()\n"
   ]
  },
  {
   "cell_type": "code",
   "execution_count": null,
   "id": "2b506ee6",
   "metadata": {
    "scrolled": true
   },
   "outputs": [],
   "source": [
    "   \n",
    "class students:\n",
    "    school = \"techmindz\"\n",
    "    location = \"kochi\"\n",
    "    \n",
    "    def __init__(self,name,rollno):\n",
    "        self.name = name\n",
    "        self.rollno = rollno\n",
    "        self.lap = self.laptop()\n",
    "\n",
    "    def show(self):\n",
    "        return(self.name,self.rollno,self.lap.display())\n",
    "        \n",
    "   \n",
    "    class laptop:\n",
    "        def __init__(self):\n",
    "            self.brand = \"hp\"\n",
    "            self.cpu = \"i5\"\n",
    "        def display(self):\n",
    "            return (self.brand,self.cpu)\n",
    "       "
   ]
  },
  {
   "cell_type": "code",
   "execution_count": null,
   "id": "3d347182",
   "metadata": {},
   "outputs": [],
   "source": [
    "            \n",
    "s1 = students(\"sreeja\",32)\n",
    "s2 = students(\"sruthy\",45)\n",
    "\n",
    "\n",
    "s1.show()\n",
    "s2.show()  "
   ]
  },
  {
   "cell_type": "code",
   "execution_count": null,
   "id": "28122641",
   "metadata": {},
   "outputs": [],
   "source": [
    "class students:\n",
    "    school = \"techmindz\"\n",
    "    location = \"kochi\"\n",
    "    \n",
    "    def __init__(self,name,rollno):\n",
    "        self.name = name\n",
    "        self.rollno = rollno\n",
    "        self.lap = self.laptop() \n",
    "    def show(self):\n",
    "        print(self.name, self.rollno)\n",
    "        self.lap.show()\n",
    "        \n",
    "    class laptop:\n",
    "        def __init__(self):\n",
    "            self.brand = \"HP\"\n",
    "        def show(self):\n",
    "            print(self.brand)\n",
    "    \n",
    "s1= students(\"Sruthy\",123)\n",
    "\n",
    "s1.show()"
   ]
  },
  {
   "cell_type": "code",
   "execution_count": null,
   "id": "e8766bab",
   "metadata": {},
   "outputs": [],
   "source": []
  },
  {
   "cell_type": "code",
   "execution_count": null,
   "id": "9616b2b5",
   "metadata": {},
   "outputs": [],
   "source": [
    "class students:\n",
    "    school = \"techmindz\"\n",
    "    location = \"kochi\"\n",
    "    \n",
    "    def __init__(self,name,rollno):\n",
    "        self.name = name\n",
    "        self.rollno = rollno\n",
    "        self.lap = self.laptop()\n",
    "\n",
    "    def show(self):\n",
    "        print(self.name, self.rollno)\n",
    "        self.lap.show1()   \n",
    "   \n",
    "    class laptop:\n",
    "        def __init__(self):\n",
    "            self.brand = \"hp\"\n",
    "            self.cpu = \"i5\"      \n",
    "        def show1(self):\n",
    "            print(self.brand, self.cpu)\n",
    "            \n",
    "s1 = students(\"sreeja\",32)\n",
    "s2 = students(\"sruthy\",45)\n",
    "\n",
    "\n",
    "s1.show()\n",
    "s2.show()\n",
    " "
   ]
  },
  {
   "cell_type": "markdown",
   "id": "b8a8b800",
   "metadata": {},
   "source": [
    "### Inheritance "
   ]
  },
  {
   "cell_type": "code",
   "execution_count": null,
   "id": "6c473137",
   "metadata": {},
   "outputs": [],
   "source": [
    "A \n",
    "|\n",
    "B"
   ]
  },
  {
   "cell_type": "code",
   "execution_count": null,
   "id": "2294afbe",
   "metadata": {},
   "outputs": [],
   "source": [
    "class A:  \n",
    "    def feature1(self):\n",
    "        print (\"feature1 is working\")\n",
    "        \n",
    "    def feature2(self):\n",
    "        print (\"feature2 is working\")\n",
    "        \n",
    "class B(A):  \n",
    "     def feature3(self):\n",
    "        print (\"feature3 is working\")\n",
    "    \n",
    "     def feature4(self):\n",
    "        print (\"feature4 is working\")\n",
    "        \n",
    "\n",
    "        "
   ]
  },
  {
   "cell_type": "code",
   "execution_count": null,
   "id": "7cc4638f",
   "metadata": {},
   "outputs": [],
   "source": [
    "a1= A()\n",
    "b1 = B()\n",
    "a1.feature3()"
   ]
  },
  {
   "cell_type": "code",
   "execution_count": null,
   "id": "9c6c4dc7",
   "metadata": {
    "scrolled": false
   },
   "outputs": [],
   "source": [
    "class A:   # parent class/ super class\n",
    "    def feature1(self):\n",
    "        print (\"feature1 is working\")\n",
    "        \n",
    "    def feature2(self):\n",
    "        print (\"feature2 is working\")\n",
    "\n",
    "        \n",
    "        \n",
    "class B(A):  # child class/ sub class\n",
    "    def feature3(self):\n",
    "        print (\"feature3 is working\")\n",
    "        \n",
    "    def feature4(self):\n",
    "        print (\"feature4 is working\")\n",
    "\n",
    "    \n",
    "        \n",
    "a1 = A()\n",
    "b1 = B()\n",
    "\n",
    "a1.feature1()\n",
    "b1.feature1()\n",
    "b1.feature3()\n",
    "b1.feature4()\n"
   ]
  },
  {
   "cell_type": "markdown",
   "id": "e5b20697",
   "metadata": {},
   "source": [
    "### Multi level Inheritance"
   ]
  },
  {
   "cell_type": "code",
   "execution_count": null,
   "id": "e42c6c4d",
   "metadata": {},
   "outputs": [],
   "source": [
    "A\n",
    "|\n",
    "B\n",
    "|\n",
    "C"
   ]
  },
  {
   "cell_type": "code",
   "execution_count": null,
   "id": "354fffa4",
   "metadata": {},
   "outputs": [],
   "source": []
  },
  {
   "cell_type": "code",
   "execution_count": null,
   "id": "2dad2fd2",
   "metadata": {
    "scrolled": true
   },
   "outputs": [],
   "source": [
    "class A:\n",
    "    def feature1(self):\n",
    "        print (\"feature1 is working\")\n",
    "        \n",
    "    def feature2(self):\n",
    "        print (\"feature2 is working\")\n",
    "\n",
    "        \n",
    "        \n",
    "class B(A):\n",
    "    def feature3(self):\n",
    "        print (\"feature3 is working\")\n",
    "        \n",
    "    def feature4(self):\n",
    "        print (\"feature4 is working\")\n",
    "\n",
    "        \n",
    "class C(B):\n",
    "    \n",
    "    def feature5(self):\n",
    "        print (\"feature5 is working\")\n",
    "\n",
    "\n",
    "\n",
    "a1 = A()\n",
    "b1 = B()\n",
    "c1 = C()\n",
    "c1.feature1()\n",
    "c1.feature3()\n",
    "c1.feature5()\n"
   ]
  },
  {
   "cell_type": "code",
   "execution_count": null,
   "id": "14369666",
   "metadata": {},
   "outputs": [],
   "source": [
    "n=5,6\n",
    "b= \"a\",\"c\""
   ]
  },
  {
   "cell_type": "code",
   "execution_count": null,
   "id": "6379f159",
   "metadata": {},
   "outputs": [],
   "source": [
    "print(b)\n"
   ]
  },
  {
   "cell_type": "markdown",
   "id": "0bf4360e",
   "metadata": {},
   "source": [
    "### Multiple Inheritance"
   ]
  },
  {
   "cell_type": "code",
   "execution_count": null,
   "id": "083a15c2",
   "metadata": {},
   "outputs": [],
   "source": [
    "A     B\n",
    "|_____|\n",
    "   |\n",
    "   C \n",
    "     "
   ]
  },
  {
   "cell_type": "code",
   "execution_count": null,
   "id": "b7147264",
   "metadata": {
    "scrolled": true
   },
   "outputs": [],
   "source": [
    "class A:\n",
    "    def feature1(self):\n",
    "        print (\"feature1 is working\")\n",
    "        \n",
    "    def feature2(self):\n",
    "        print (\"feature2 is working\")\n",
    "\n",
    "        \n",
    "        \n",
    "class B:\n",
    "    def feature3(self):\n",
    "        print (\"feature3 is working\")\n",
    "        \n",
    "    def feature4(self):\n",
    "        print (\"feature4 is working\")\n",
    "\n",
    "        \n",
    "\n",
    "class C(A,B):\n",
    "    \n",
    "    def feature5(self):\n",
    "        print (\"feature5 is working\")\n",
    "        \n",
    "c1 = C()\n",
    "b1 = B()\n",
    "a1 = A()\n",
    "\n",
    "#b1.feature1()\n",
    "#b1.feature2()\n",
    "b1.feature3()\n",
    "b1.feature4()\n",
    "b1.feature5()"
   ]
  },
  {
   "cell_type": "markdown",
   "id": "ba4e6f47",
   "metadata": {},
   "source": [
    "### Constructors in Inheritance"
   ]
  },
  {
   "cell_type": "code",
   "execution_count": null,
   "id": "2fa832d3",
   "metadata": {
    "scrolled": false
   },
   "outputs": [],
   "source": [
    "class A:\n",
    "    def __init__(self):\n",
    "        print(\"constructors of A\")\n",
    "        \n",
    "    def feature1(self):\n",
    "        print (\"feature1 is working\")\n",
    "        \n",
    "    def feature2(self):\n",
    "        print (\"feature2 is working\")\n",
    "\n",
    "        \n",
    "        \n",
    "class B(A):\n",
    "    \n",
    "    def __init__(self):\n",
    "        print(\"constructors of B\")\n",
    "        super().__init__()\n",
    "        \n",
    "    def feature3(self):\n",
    "        print (\"feature3 is working\")\n",
    "        \n",
    "    def feature4(self):\n",
    "        print (\"feature4 is working\")\n",
    "\n",
    "class C(B):\n",
    "    \n",
    "    def __init__(self):\n",
    "        print(\"constructors of c\")\n",
    "        super().__init__()\n",
    "        \n",
    "    def feature5(self):\n",
    "        print (\"feature5 is working\")\n",
    "        \n",
    "c1 = C()\n",
    "c1.feature1()\n"
   ]
  },
  {
   "cell_type": "code",
   "execution_count": null,
   "id": "86fc0bbb",
   "metadata": {},
   "outputs": [],
   "source": [
    "class A:\n",
    "    def __init__(self,email,psw):\n",
    "        self.a = email\n",
    "        self.b = psw\n",
    "        \n",
    "    def feature1(self):\n",
    "        print (\"feature1 is working\")\n",
    "        \n",
    "    def feature2(self):\n",
    "        print (\"feature2 is working\")\n",
    "\n",
    "        \n",
    "        \n",
    "class B(A):\n",
    "    \n",
    "    def __init__(self,phn):\n",
    "        self.a = phn\n",
    "        super().__init__()\n",
    "        \n",
    "    def feature3(self):\n",
    "        print (\"feature3 is working\")\n",
    "        \n",
    "    def feature4(self):\n",
    "        print (\"feature4 is working\")\n",
    "\n",
    "\n",
    "        "
   ]
  },
  {
   "cell_type": "code",
   "execution_count": null,
   "id": "795893b8",
   "metadata": {},
   "outputs": [],
   "source": [
    "b1=B(134567)"
   ]
  },
  {
   "cell_type": "code",
   "execution_count": null,
   "id": "5ce99906",
   "metadata": {},
   "outputs": [],
   "source": [
    "class A:\n",
    "    def __init__(self):\n",
    "        print(\"constructors of A\")\n",
    "        \n",
    "    def feature1(self):\n",
    "        print (\"feature1 is working\")\n",
    "        \n",
    "    def feature2(self):\n",
    "        print (\"feature2 is working\")\n",
    "\n",
    "        \n",
    "        \n",
    "class B(A):\n",
    "    def __init__(self):\n",
    "        print(\"constructors of B\")\n",
    "        \n",
    "    def feature3(self):\n",
    "        print (\"feature3 is working\")\n",
    "        \n",
    "    def feature4(self):\n",
    "        print (\"feature4 is working\")\n",
    "\n",
    "        \n",
    "b1 = B()    \n",
    "b1.feature1()\n",
    "b1.feature3()\n"
   ]
  },
  {
   "cell_type": "code",
   "execution_count": null,
   "id": "53ad73e5",
   "metadata": {
    "scrolled": false
   },
   "outputs": [],
   "source": [
    "class A:\n",
    "    def __init__(self):\n",
    "        print(\"constructors of A\")\n",
    "        \n",
    "    def feature1(self):\n",
    "        print (\"feature1 is working\")\n",
    "        \n",
    "    def feature2(self):\n",
    "        print (\"feature2 is working\")\n",
    "\n",
    "        \n",
    "        \n",
    "class B(A):\n",
    "    \n",
    "    def __init__(self):\n",
    "        \n",
    "        print(\"constructors of B\")\n",
    "        super().__init__()\n",
    "       \n",
    "    def feature3(self):\n",
    "        print (\"feature3 is working\")\n",
    "        \n",
    "    def feature4(self):\n",
    "        print (\"feature4 is working\")\n",
    "\n",
    "b1 = B()  \n",
    "b1.feature1()\n",
    "b1.feature3()\n"
   ]
  },
  {
   "cell_type": "markdown",
   "id": "43466fcc",
   "metadata": {},
   "source": [
    "### Method Resolution Order (MRO)"
   ]
  },
  {
   "cell_type": "code",
   "execution_count": null,
   "id": "3ef48e84",
   "metadata": {},
   "outputs": [],
   "source": [
    "class A:\n",
    "    def __init__(self):\n",
    "        print(\"constructors of A\")\n",
    "        \n",
    "\n",
    "    def feature1(self):\n",
    "        print (\"feature1-A is working\")\n",
    "    \n",
    "        \n",
    "class B:\n",
    "    def __init__(self):\n",
    "        print(\"constructors of B\")     \n",
    "        \n",
    "    def feature1(self):\n",
    "        print (\"feature1-B is working\")\n",
    "        \n",
    "    def feature3(self):\n",
    "        print (\"feature3 is working\")\n",
    "\n",
    "\n",
    "class C(B,A):\n",
    "    def __init__(self):\n",
    "        print(\"constructors of C\")\n",
    "        super().__init__()\n",
    "    def feature4(self):\n",
    "        print (\"feature1-C is working\")\n",
    "c1= C()\n",
    "c1.feature1()"
   ]
  },
  {
   "cell_type": "code",
   "execution_count": null,
   "id": "03ed73cd",
   "metadata": {},
   "outputs": [],
   "source": [
    "class A:\n",
    "    \n",
    "    def __init__(self):\n",
    "        print(\"constructors of A\")\n",
    "        \n",
    "    def feature1(self):\n",
    "        print (\"feature1 is working\")\n",
    "    \n",
    "        \n",
    "class B:\n",
    "    \n",
    "    def __init__(self):\n",
    "        print(\"constructors of B\")   \n",
    "   \n",
    "        \n",
    "    def feature2(self):\n",
    "        print (\"feature2 is working\")\n",
    "    def feature3(self):\n",
    "        print (\"feature3 is working\")\n",
    "\n",
    "\n",
    "class C(A,B):\n",
    "    def __init__(self):\n",
    "        print(\"constructors of C\")\n",
    "        super().__init__()\n",
    "        \n",
    "    def feature4(self):\n",
    "        print (\"feature4 is working\")\n",
    "        \n",
    "        \n",
    "c1 = C()\n",
    "c1.feature3()"
   ]
  },
  {
   "cell_type": "code",
   "execution_count": null,
   "id": "962e1fbf",
   "metadata": {
    "scrolled": true
   },
   "outputs": [],
   "source": [
    "class A:\n",
    "    def __init__(self):\n",
    "        print(\"constructors of A\")\n",
    "        \n",
    "    def feature1(self):\n",
    "        print (\"feature1-A is working\")\n",
    "    \n",
    "        \n",
    "class B:\n",
    "        \n",
    "    def __init__(self):\n",
    "        print(\"constructors of B\")\n",
    "        \n",
    "    def feature1(self):\n",
    "        print (\"feature1-B is working\")\n",
    "\n",
    "\n",
    "class C(A,B):\n",
    "    def __init__(self):\n",
    "        print(\"constructors of C\")\n",
    "        super().__init__()\n",
    "        \n",
    "        \n",
    "c1 = C()\n",
    "c1.feature1()"
   ]
  },
  {
   "cell_type": "markdown",
   "id": "9fa9348c",
   "metadata": {},
   "source": [
    "### Polymorphism\n",
    "\n",
    "          Duck Typing\n",
    "          Operator Overloading\n",
    "          Method Overloading \n",
    "          Method Overriding"
   ]
  },
  {
   "cell_type": "markdown",
   "id": "510ea61b",
   "metadata": {},
   "source": [
    "#### Duck Typing"
   ]
  },
  {
   "cell_type": "code",
   "execution_count": null,
   "id": "8ea090a2",
   "metadata": {},
   "outputs": [],
   "source": [
    "n = 5\n",
    "print(type(n))"
   ]
  },
  {
   "cell_type": "code",
   "execution_count": null,
   "id": "c859e842",
   "metadata": {
    "scrolled": true
   },
   "outputs": [],
   "source": [
    "class laptop:\n",
    "    \n",
    "    def code(self,ide): #Itegrated Development Environment\n",
    "        ide.execute()\n",
    "        \n",
    "        \n",
    "    "
   ]
  },
  {
   "cell_type": "code",
   "execution_count": 3,
   "id": "f852aa24",
   "metadata": {},
   "outputs": [],
   "source": [
    "class pandas:\n",
    "    def execute(self):\n",
    "        print(\"Compiling\")\n",
    "        print(\"Running\")\n",
    "    def code(self):\n",
    "        print(\"code\")\n",
    "        print(\"code ran successfully\")\n",
    "        "
   ]
  },
  {
   "cell_type": "code",
   "execution_count": null,
   "id": "943764e9",
   "metadata": {
    "scrolled": true
   },
   "outputs": [],
   "source": [
    "class laptop:\n",
    "    def __init__(self, a,b):\n",
    "        self.a=a\n",
    "        self.b=b\n",
    "    def execute(self):\n",
    "        print(\"Compiling\")\n",
    "        print(\"Running\")\n",
    "    \n",
    "    def code(self):\n",
    "        print(self.a,self.b)\n",
    "        print(\"The code ran sucessful\")\n",
    "\n",
    "lap1 = laptop(\"HP\",\"i5\")\n",
    "lap1.execute()\n",
    "lap1.code()\n"
   ]
  },
  {
   "cell_type": "code",
   "execution_count": null,
   "id": "6ffbf276",
   "metadata": {},
   "outputs": [],
   "source": [
    "class pandas: # Pre defined class\n",
    "    def execute(self):\n",
    "        print(\"Compiling\")\n",
    "        print(\"Running\")\n",
    "    def code(self):\n",
    "        print(\"code\")\n",
    "        print(\"code ran successfully\")\n",
    "        \n",
    "        \n"
   ]
  },
  {
   "cell_type": "code",
   "execution_count": 4,
   "id": "cb767885",
   "metadata": {},
   "outputs": [
    {
     "name": "stdout",
     "output_type": "stream",
     "text": [
      "Compiling\n",
      "Running\n",
      "HP i5\n",
      "The code ran sucessful\n"
     ]
    }
   ],
   "source": [
    "class laptop:\n",
    "    def __init__(self, a,b):\n",
    "        self.a=a\n",
    "        self.b=b\n",
    "        \n",
    "    def code(self,ide):\n",
    "        ide.execute()\n",
    "        print(self.a,self.b)\n",
    "        print(\"The code ran sucessful\")\n",
    "\n",
    "#ide = pandas()\n",
    "       \n",
    "lap1 = laptop(\"HP\",\"i5\")\n",
    "\n",
    "lap1.code(pandas())\n",
    "#lap2.code(ide)\n"
   ]
  },
  {
   "cell_type": "code",
   "execution_count": 6,
   "id": "04e4816b",
   "metadata": {
    "scrolled": true
   },
   "outputs": [],
   "source": [
    "class myeditor:\n",
    "    def execute(self):\n",
    "        print(\"Spell checks\")\n",
    "        print(\"convention checks\")        \n",
    "        print(\"Compiling\")\n",
    "        print(\"Running\")\n",
    "        \n"
   ]
  },
  {
   "cell_type": "code",
   "execution_count": 7,
   "id": "ceb82c8f",
   "metadata": {},
   "outputs": [
    {
     "name": "stdout",
     "output_type": "stream",
     "text": [
      "Spell checks\n",
      "convention checks\n",
      "Compiling\n",
      "Running\n",
      "HP i5\n",
      "The code ran sucessful\n"
     ]
    }
   ],
   "source": [
    "class laptop:\n",
    "    def __init__(self, a,b):\n",
    "        self.a=a\n",
    "        self.b=b\n",
    "        \n",
    "    def code(self,ide):\n",
    "        ide.execute()\n",
    "        print(self.a,self.b)\n",
    "        print(\"The code ran sucessful\")\n",
    "\n",
    "\n",
    "ide = myeditor()\n",
    "\n",
    "lap1 = laptop(\"HP\",\"i5\")\n",
    "lap1.code(ide)"
   ]
  },
  {
   "cell_type": "markdown",
   "id": "ecf1c361",
   "metadata": {},
   "source": [
    "####           Operator Overloading\n"
   ]
  },
  {
   "cell_type": "code",
   "execution_count": null,
   "id": "78df33b8",
   "metadata": {
    "scrolled": false
   },
   "outputs": [],
   "source": [
    "a = 6\n",
    "b = 4\n",
    "c= 10\n",
    "print(a-b)\n",
    "#print(str.__add__(a,b))\n",
    "print(int.__sub__(a,b))"
   ]
  },
  {
   "cell_type": "code",
   "execution_count": null,
   "id": "1ffcb978",
   "metadata": {
    "scrolled": true
   },
   "outputs": [],
   "source": [
    "n=\"sreeja\"\n",
    "a=10\n",
    "s = n+a\n",
    "print(s)\n",
    "print(type(n))"
   ]
  },
  {
   "cell_type": "code",
   "execution_count": null,
   "id": "9a426cc4",
   "metadata": {},
   "outputs": [],
   "source": [
    "sreeja 10"
   ]
  },
  {
   "cell_type": "code",
   "execution_count": 9,
   "id": "69f79135",
   "metadata": {
    "scrolled": true
   },
   "outputs": [
    {
     "ename": "TypeError",
     "evalue": "unsupported operand type(s) for +: 'students' and 'students'",
     "output_type": "error",
     "traceback": [
      "\u001b[0;31m---------------------------------------------------------------------------\u001b[0m",
      "\u001b[0;31mTypeError\u001b[0m                                 Traceback (most recent call last)",
      "\u001b[0;32m/var/folders/1z/cg3wnq050fn_7dl4rd8bccpw0000gn/T/ipykernel_12268/2819992874.py\u001b[0m in \u001b[0;36m<module>\u001b[0;34m\u001b[0m\n\u001b[1;32m      8\u001b[0m \u001b[0ms2\u001b[0m \u001b[0;34m=\u001b[0m \u001b[0mstudents\u001b[0m\u001b[0;34m(\u001b[0m\u001b[0;36m45\u001b[0m\u001b[0;34m)\u001b[0m\u001b[0;34m\u001b[0m\u001b[0;34m\u001b[0m\u001b[0m\n\u001b[1;32m      9\u001b[0m \u001b[0;34m\u001b[0m\u001b[0m\n\u001b[0;32m---> 10\u001b[0;31m \u001b[0mSum\u001b[0m \u001b[0;34m=\u001b[0m\u001b[0ms1\u001b[0m\u001b[0;34m+\u001b[0m\u001b[0ms2\u001b[0m\u001b[0;34m\u001b[0m\u001b[0;34m\u001b[0m\u001b[0m\n\u001b[0m\u001b[1;32m     11\u001b[0m \u001b[0mprint\u001b[0m\u001b[0;34m(\u001b[0m\u001b[0mSum\u001b[0m\u001b[0;34m)\u001b[0m\u001b[0;34m\u001b[0m\u001b[0;34m\u001b[0m\u001b[0m\n",
      "\u001b[0;31mTypeError\u001b[0m: unsupported operand type(s) for +: 'students' and 'students'"
     ]
    }
   ],
   "source": [
    "class students:\n",
    "    def __init__(self,m1):\n",
    "        self.m1 = m1        \n",
    "\n",
    "\n",
    "s1 = students(66)\n",
    "\n",
    "s2 = students(45)\n",
    "\n",
    "Sum =s1+s2\n",
    "print(Sum)"
   ]
  },
  {
   "cell_type": "code",
   "execution_count": 10,
   "id": "8c0a4aa2",
   "metadata": {},
   "outputs": [
    {
     "data": {
      "text/plain": [
       "__main__.students"
      ]
     },
     "execution_count": 10,
     "metadata": {},
     "output_type": "execute_result"
    }
   ],
   "source": [
    "type(s1)"
   ]
  },
  {
   "cell_type": "code",
   "execution_count": 20,
   "id": "d2bf8be3",
   "metadata": {},
   "outputs": [
    {
     "data": {
      "text/plain": [
       "20"
      ]
     },
     "execution_count": 20,
     "metadata": {},
     "output_type": "execute_result"
    }
   ],
   "source": [
    "class students:\n",
    "    def __init__(self,m1):\n",
    "        self.m1 = m1\n",
    "        \n",
    "    def __add__(self,other):\n",
    "        \n",
    "        s3 = self.m1+other.m1-10\n",
    "        \n",
    "        return s3\n",
    "    def __sub__(self,other):\n",
    "        \n",
    "        s3 = self.m1-other.m1\n",
    "        return s3\n",
    "        \n",
    "s1 = students(65)\n",
    "\n",
    "s2 = students(45)\n",
    "s1-s2\n",
    "#print(type(s1))"
   ]
  },
  {
   "cell_type": "markdown",
   "id": "0a3f1983",
   "metadata": {},
   "source": [
    "## Create a method to concatenate integer and string"
   ]
  },
  {
   "cell_type": "code",
   "execution_count": null,
   "id": "de23a236",
   "metadata": {},
   "outputs": [],
   "source": []
  },
  {
   "cell_type": "code",
   "execution_count": 25,
   "id": "9ba9bbec",
   "metadata": {},
   "outputs": [
    {
     "name": "stdout",
     "output_type": "stream",
     "text": [
      "5ann\n"
     ]
    }
   ],
   "source": [
    "class int_str:\n",
    "    def __init__(self,m1):\n",
    "        self.m1=str(m1)\n",
    "        \n",
    "    def __add__(self,other):\n",
    "        \n",
    "        print(self.m1+other.m1)\n",
    "        \n",
    "s1 = int_str(5)\n",
    "s2 = int_str(\"ann\")\n",
    "\n",
    "s1+s2"
   ]
  },
  {
   "cell_type": "markdown",
   "id": "b0d98e0a",
   "metadata": {},
   "source": [
    "#### Method Overloading \n"
   ]
  },
  {
   "cell_type": "code",
   "execution_count": 32,
   "id": "f742e248",
   "metadata": {},
   "outputs": [
    {
     "ename": "TypeError",
     "evalue": "unsupported operand type(s) for +: 'int' and 'NoneType'",
     "output_type": "error",
     "traceback": [
      "\u001b[0;31m---------------------------------------------------------------------------\u001b[0m",
      "\u001b[0;31mTypeError\u001b[0m                                 Traceback (most recent call last)",
      "\u001b[0;32m/var/folders/1z/cg3wnq050fn_7dl4rd8bccpw0000gn/T/ipykernel_12268/1084739165.py\u001b[0m in \u001b[0;36m<module>\u001b[0;34m\u001b[0m\n\u001b[1;32m      7\u001b[0m \u001b[0ms1\u001b[0m \u001b[0;34m=\u001b[0m \u001b[0mstudents\u001b[0m\u001b[0;34m(\u001b[0m\u001b[0;34m)\u001b[0m\u001b[0;34m\u001b[0m\u001b[0;34m\u001b[0m\u001b[0m\n\u001b[1;32m      8\u001b[0m \u001b[0;34m\u001b[0m\u001b[0m\n\u001b[0;32m----> 9\u001b[0;31m \u001b[0ms1\u001b[0m\u001b[0;34m.\u001b[0m\u001b[0msum\u001b[0m\u001b[0;34m(\u001b[0m\u001b[0;36m9\u001b[0m\u001b[0;34m,\u001b[0m\u001b[0;36m8\u001b[0m\u001b[0;34m)\u001b[0m\u001b[0;34m\u001b[0m\u001b[0;34m\u001b[0m\u001b[0m\n\u001b[0m",
      "\u001b[0;32m/var/folders/1z/cg3wnq050fn_7dl4rd8bccpw0000gn/T/ipykernel_12268/1084739165.py\u001b[0m in \u001b[0;36msum\u001b[0;34m(self, a, b, c)\u001b[0m\n\u001b[1;32m      2\u001b[0m \u001b[0;34m\u001b[0m\u001b[0m\n\u001b[1;32m      3\u001b[0m     \u001b[0;32mdef\u001b[0m \u001b[0msum\u001b[0m \u001b[0;34m(\u001b[0m\u001b[0mself\u001b[0m\u001b[0;34m,\u001b[0m\u001b[0ma\u001b[0m\u001b[0;34m=\u001b[0m\u001b[0;32mNone\u001b[0m\u001b[0;34m,\u001b[0m\u001b[0mb\u001b[0m\u001b[0;34m=\u001b[0m\u001b[0;32mNone\u001b[0m\u001b[0;34m,\u001b[0m\u001b[0mc\u001b[0m\u001b[0;34m=\u001b[0m\u001b[0;32mNone\u001b[0m\u001b[0;34m)\u001b[0m\u001b[0;34m:\u001b[0m\u001b[0;34m\u001b[0m\u001b[0;34m\u001b[0m\u001b[0m\n\u001b[0;32m----> 4\u001b[0;31m         \u001b[0ms\u001b[0m \u001b[0;34m=\u001b[0m \u001b[0ma\u001b[0m \u001b[0;34m+\u001b[0m \u001b[0mb\u001b[0m \u001b[0;34m+\u001b[0m \u001b[0mc\u001b[0m\u001b[0;34m\u001b[0m\u001b[0;34m\u001b[0m\u001b[0m\n\u001b[0m\u001b[1;32m      5\u001b[0m         \u001b[0;32mreturn\u001b[0m \u001b[0ms\u001b[0m\u001b[0;34m\u001b[0m\u001b[0;34m\u001b[0m\u001b[0m\n\u001b[1;32m      6\u001b[0m \u001b[0;34m\u001b[0m\u001b[0m\n",
      "\u001b[0;31mTypeError\u001b[0m: unsupported operand type(s) for +: 'int' and 'NoneType'"
     ]
    }
   ],
   "source": [
    "class students:\n",
    "    \n",
    "    def sum (self,a=None,b=None,c=None):\n",
    "        s = a + b + c\n",
    "        return s\n",
    "        \n",
    "s1 = students()\n",
    "\n",
    "s1.sum(9,8)"
   ]
  },
  {
   "cell_type": "code",
   "execution_count": null,
   "id": "fa45a942",
   "metadata": {
    "scrolled": false
   },
   "outputs": [],
   "source": [
    "class students:\n",
    "    \n",
    "    def sum (self,a=None,b=None,c=None):\n",
    "        s = a + b + c\n",
    "        return s\n",
    "        \n",
    "s1 = students()\n",
    "\n",
    "print(s1.sum(5,6))"
   ]
  },
  {
   "cell_type": "code",
   "execution_count": 38,
   "id": "0e8ac073",
   "metadata": {},
   "outputs": [
    {
     "name": "stdout",
     "output_type": "stream",
     "text": [
      "7\n"
     ]
    }
   ],
   "source": [
    "class students:\n",
    "    \n",
    "    def sum (self,a=None,b=None,c=None):\n",
    "        \n",
    "        if a!=None and b!=None and c!=None:\n",
    "            s = a + b + c\n",
    "        elif a!=None and b!=None:\n",
    "            s = a + b\n",
    "        else:\n",
    "            s = a\n",
    "            \n",
    "        return s\n",
    "        \n",
    "s1 = students()\n",
    "\n",
    "print(s1.sum(7))"
   ]
  },
  {
   "cell_type": "markdown",
   "id": "59dc0b4f",
   "metadata": {},
   "source": [
    " ####         Method Overriding"
   ]
  },
  {
   "cell_type": "code",
   "execution_count": 39,
   "id": "2eadbd68",
   "metadata": {
    "scrolled": false
   },
   "outputs": [
    {
     "name": "stdout",
     "output_type": "stream",
     "text": [
      "Contents in A\n"
     ]
    }
   ],
   "source": [
    "class A:\n",
    "    def show(self):\n",
    "        print(\"Contents in A\")\n",
    "             \n",
    "s1 = A()\n",
    "s1.show()"
   ]
  },
  {
   "cell_type": "code",
   "execution_count": 44,
   "id": "6d70a907",
   "metadata": {},
   "outputs": [
    {
     "name": "stdout",
     "output_type": "stream",
     "text": [
      "Contents in A\n"
     ]
    }
   ],
   "source": [
    "class A:\n",
    "    def show(self):\n",
    "        print(\"Contents in A\")\n",
    "\n",
    "class B(A):\n",
    "    pass\n",
    "\n",
    "s1 = B()\n",
    "s1.show()"
   ]
  },
  {
   "cell_type": "code",
   "execution_count": 45,
   "id": "a525fd48",
   "metadata": {},
   "outputs": [
    {
     "name": "stdout",
     "output_type": "stream",
     "text": [
      "Thanks\n"
     ]
    }
   ],
   "source": [
    "class A:\n",
    "    def show(self):\n",
    "        print(\"Contents in A\")\n",
    "    def show1(self):\n",
    "        print(\"Thanks\")\n",
    "\n",
    "class B(A):\n",
    "    pass\n",
    "\n",
    "s1 = B()\n",
    "s1.show1()"
   ]
  },
  {
   "cell_type": "code",
   "execution_count": 42,
   "id": "14e7f642",
   "metadata": {},
   "outputs": [
    {
     "name": "stdout",
     "output_type": "stream",
     "text": [
      "Contents in B\n"
     ]
    }
   ],
   "source": [
    "class A:\n",
    "    def show(self):\n",
    "        print(\"Contents in A\")\n",
    "\n",
    "class B(A):\n",
    "    \n",
    "    def show(self):\n",
    "        print(\"Contents in B\")\n",
    "    \n",
    "\n",
    "s1 = B()\n",
    "s1.show()"
   ]
  },
  {
   "cell_type": "markdown",
   "id": "4dc9a2b9",
   "metadata": {},
   "source": [
    "### Abstraction"
   ]
  },
  {
   "cell_type": "code",
   "execution_count": 52,
   "id": "adafddc9",
   "metadata": {},
   "outputs": [],
   "source": [
    "class computer():\n",
    "    def process(self):\n",
    "        pass\n",
    "a = computer()\n",
    "a.process()"
   ]
  },
  {
   "cell_type": "code",
   "execution_count": 53,
   "id": "7ac3f9ed",
   "metadata": {
    "scrolled": true
   },
   "outputs": [
    {
     "ename": "TypeError",
     "evalue": "Can't instantiate abstract class computer with abstract method process",
     "output_type": "error",
     "traceback": [
      "\u001b[0;31m---------------------------------------------------------------------------\u001b[0m",
      "\u001b[0;31mTypeError\u001b[0m                                 Traceback (most recent call last)",
      "\u001b[0;32m/var/folders/1z/cg3wnq050fn_7dl4rd8bccpw0000gn/T/ipykernel_12268/1446818096.py\u001b[0m in \u001b[0;36m<module>\u001b[0;34m\u001b[0m\n\u001b[1;32m      7\u001b[0m         \u001b[0;32mpass\u001b[0m\u001b[0;34m\u001b[0m\u001b[0;34m\u001b[0m\u001b[0m\n\u001b[1;32m      8\u001b[0m \u001b[0;34m\u001b[0m\u001b[0m\n\u001b[0;32m----> 9\u001b[0;31m \u001b[0ma\u001b[0m \u001b[0;34m=\u001b[0m \u001b[0mcomputer\u001b[0m\u001b[0;34m(\u001b[0m\u001b[0;34m)\u001b[0m\u001b[0;34m\u001b[0m\u001b[0;34m\u001b[0m\u001b[0m\n\u001b[0m\u001b[1;32m     10\u001b[0m \u001b[0ma\u001b[0m\u001b[0;34m.\u001b[0m\u001b[0mprocess\u001b[0m\u001b[0;34m(\u001b[0m\u001b[0;34m)\u001b[0m\u001b[0;34m\u001b[0m\u001b[0;34m\u001b[0m\u001b[0m\n",
      "\u001b[0;31mTypeError\u001b[0m: Can't instantiate abstract class computer with abstract method process"
     ]
    }
   ],
   "source": [
    "from abc import ABC, abstractmethod # ABC - Absrtact Base Classes\n",
    "\n",
    "class computer(ABC):\n",
    "    \n",
    "    @abstractmethod\n",
    "    def process(self):\n",
    "        pass\n",
    "    \n",
    "a = computer()\n",
    "a.process()"
   ]
  },
  {
   "cell_type": "code",
   "execution_count": 57,
   "id": "fa71094e",
   "metadata": {},
   "outputs": [
    {
     "name": "stdout",
     "output_type": "stream",
     "text": [
      "I can Jump and run\n"
     ]
    }
   ],
   "source": [
    "from abc import ABC, abstractmethod # ABC - Absrtact Base Classes\n",
    "\n",
    "class Animal():\n",
    "    \n",
    "    @abstractmethod\n",
    "    def move(self):\n",
    "        pass\n",
    "    \n",
    "    @abstractmethod\n",
    "    def crawl(self): \n",
    "        pass\n",
    "    \n",
    "    def dis(self):\n",
    "        print(\"Welcome\")\n",
    "\n",
    "\n",
    "class Human(Animal):\n",
    " \n",
    "    def move(self):\n",
    "        print(\"I can walk and run\")\n",
    "    \n",
    "\n",
    "\n",
    "class Snake(Animal):\n",
    "    def move(self):\n",
    "        pass\n",
    " \n",
    "    def crawl(self):\n",
    "        print(\"I can crawl\")\n",
    "\n",
    "class Dog(Animal):\n",
    " \n",
    "    def move(self):\n",
    "        print(\"I can Jump and run\")\n",
    "\n",
    "\n",
    "              \n",
    "R = Dog()\n",
    "R.move()\n"
   ]
  },
  {
   "cell_type": "markdown",
   "id": "6349999e",
   "metadata": {},
   "source": [
    "## Public Protected and Private Variables"
   ]
  },
  {
   "cell_type": "markdown",
   "id": "17ca0a0c",
   "metadata": {},
   "source": [
    "### Public \n",
    "\n",
    " The members of a class that are declared public are easily accessible from any part of the program. All data members and member functions of a class are public by default. \n",
    "\n",
    "\n"
   ]
  },
  {
   "cell_type": "code",
   "execution_count": 87,
   "id": "8d2f2f95",
   "metadata": {
    "scrolled": true
   },
   "outputs": [
    {
     "name": "stdout",
     "output_type": "stream",
     "text": [
      "Name:  Ann\n",
      "Age:  20\n"
     ]
    }
   ],
   "source": [
    "class school:\n",
    "     def __init__(self, name, age):\n",
    "            # public data members\n",
    "            self.name = name\n",
    "            self.age = age\n",
    " \n",
    "     # public member function     \n",
    "     def display(self):\n",
    "\n",
    "            print(\"Name: \", self.name)\n",
    "            print(\"Age: \", self.age)\n",
    "\n",
    "ob = school(\"Ann\", 20)\n",
    "ob.display()"
   ]
  },
  {
   "cell_type": "code",
   "execution_count": 93,
   "id": "2b5eb467",
   "metadata": {},
   "outputs": [
    {
     "name": "stdout",
     "output_type": "stream",
     "text": [
      "Name:  Ann\n",
      "Age:  23\n"
     ]
    }
   ],
   "source": [
    "class python(school):\n",
    "    def __init__(self,name,age,location):\n",
    "        super().__init__(name,age) \n",
    "        self.location=location\n",
    "\n",
    "    def show(self):\n",
    "            # accessing public data member\n",
    "            print(\"Name: \", self.name)\n",
    "\n",
    "            print(\"Age: \", self.age)\n",
    "            print(\"Location: \", self.location)\n",
    "\n",
    "ob = python(\"Ann\",23,\"Kochi\")\n",
    "#ob.show()\n",
    "ob.display()"
   ]
  },
  {
   "cell_type": "markdown",
   "id": "495d071d",
   "metadata": {},
   "source": [
    "### Protected Members\n",
    "The members of a class that are declared protected are only accessible to a class derived from it. Data members of a class are declared protected by adding a single underscore ‘_’ symbol before the data member of that class. "
   ]
  },
  {
   "cell_type": "code",
   "execution_count": 102,
   "id": "9ecb8169",
   "metadata": {},
   "outputs": [],
   "source": [
    "class students:\n",
    "    \n",
    "    def __init__(self,name,age):\n",
    "        self._name = name\n",
    "        self._age = age\n",
    "    \n",
    "    def _display(self):\n",
    "        print(self._name, self._age)       "
   ]
  },
  {
   "cell_type": "code",
   "execution_count": 104,
   "id": "bcdc3dab",
   "metadata": {
    "scrolled": false
   },
   "outputs": [
    {
     "name": "stdout",
     "output_type": "stream",
     "text": [
      "sreeja 25\n"
     ]
    }
   ],
   "source": [
    "s1= students(\"sreeja\",25)\n",
    "s1._display()"
   ]
  },
  {
   "cell_type": "code",
   "execution_count": 106,
   "id": "113f8658",
   "metadata": {},
   "outputs": [
    {
     "name": "stdout",
     "output_type": "stream",
     "text": [
      "Name:  Ann\n",
      "Age:  20\n",
      "Ann 20\n"
     ]
    }
   ],
   "source": [
    "class python(students):\n",
    "    def __init__(self,name,age,location):\n",
    "        super().__init__(name,age) \n",
    "        self.location=location\n",
    "\n",
    "    def show(self):\n",
    "            # accessing protected data member\n",
    "            print(\"Name: \", self._name)\n",
    "            print(\"Age: \", self._age)\n",
    "\n",
    "ob = python(\"Ann\", 20,\"Kochi\")\n",
    "ob.show() \n",
    "ob._display()"
   ]
  },
  {
   "cell_type": "markdown",
   "id": "08e1b073",
   "metadata": {},
   "source": [
    "### Private Members\n",
    "The members of a class that are declared private are accessible within the class only, private access modifier is the most secure access modifier. Data members of a class are declared private by adding a double underscore ‘__’ symbol before the data member of that class. "
   ]
  },
  {
   "cell_type": "code",
   "execution_count": 122,
   "id": "0a911985",
   "metadata": {},
   "outputs": [],
   "source": [
    "class students:\n",
    "    \n",
    "    def __init__(self,name,age):\n",
    "        self._name = name\n",
    "        self.__age = age\n",
    "    \n",
    "    def _show(self):\n",
    "        print(self._name, self.__age)  "
   ]
  },
  {
   "cell_type": "code",
   "execution_count": 123,
   "id": "d8cb1944",
   "metadata": {
    "scrolled": true
   },
   "outputs": [
    {
     "name": "stdout",
     "output_type": "stream",
     "text": [
      "sreeja 25\n"
     ]
    }
   ],
   "source": [
    "s1= students(\"sreeja\",25)\n",
    "s1._show()"
   ]
  },
  {
   "cell_type": "code",
   "execution_count": 126,
   "id": "113d11e1",
   "metadata": {
    "scrolled": true
   },
   "outputs": [
    {
     "name": "stdout",
     "output_type": "stream",
     "text": [
      "Name:  Ann\n"
     ]
    },
    {
     "ename": "AttributeError",
     "evalue": "'python' object has no attribute '_python__age'",
     "output_type": "error",
     "traceback": [
      "\u001b[0;31m---------------------------------------------------------------------------\u001b[0m",
      "\u001b[0;31mAttributeError\u001b[0m                            Traceback (most recent call last)",
      "\u001b[0;32m/var/folders/1z/cg3wnq050fn_7dl4rd8bccpw0000gn/T/ipykernel_19776/1376680905.py\u001b[0m in \u001b[0;36m<module>\u001b[0;34m\u001b[0m\n\u001b[1;32m     11\u001b[0m \u001b[0;34m\u001b[0m\u001b[0m\n\u001b[1;32m     12\u001b[0m \u001b[0mob\u001b[0m \u001b[0;34m=\u001b[0m \u001b[0mpython\u001b[0m\u001b[0;34m(\u001b[0m\u001b[0;34m\"Ann\"\u001b[0m\u001b[0;34m,\u001b[0m \u001b[0;36m20\u001b[0m\u001b[0;34m,\u001b[0m\u001b[0;34m\"Kochi\"\u001b[0m\u001b[0;34m)\u001b[0m\u001b[0;34m\u001b[0m\u001b[0;34m\u001b[0m\u001b[0m\n\u001b[0;32m---> 13\u001b[0;31m \u001b[0mob\u001b[0m\u001b[0;34m.\u001b[0m\u001b[0mshow\u001b[0m\u001b[0;34m(\u001b[0m\u001b[0;34m)\u001b[0m\u001b[0;34m\u001b[0m\u001b[0;34m\u001b[0m\u001b[0m\n\u001b[0m",
      "\u001b[0;32m/var/folders/1z/cg3wnq050fn_7dl4rd8bccpw0000gn/T/ipykernel_19776/1376680905.py\u001b[0m in \u001b[0;36mshow\u001b[0;34m(self)\u001b[0m\n\u001b[1;32m      8\u001b[0m             \u001b[0mprint\u001b[0m\u001b[0;34m(\u001b[0m\u001b[0;34m\"Name: \"\u001b[0m\u001b[0;34m,\u001b[0m \u001b[0mself\u001b[0m\u001b[0;34m.\u001b[0m\u001b[0m_name\u001b[0m\u001b[0;34m)\u001b[0m\u001b[0;34m\u001b[0m\u001b[0;34m\u001b[0m\u001b[0m\n\u001b[1;32m      9\u001b[0m \u001b[0;34m\u001b[0m\u001b[0m\n\u001b[0;32m---> 10\u001b[0;31m             \u001b[0mprint\u001b[0m\u001b[0;34m(\u001b[0m\u001b[0;34m\"Age: \"\u001b[0m\u001b[0;34m,\u001b[0m \u001b[0mself\u001b[0m\u001b[0;34m.\u001b[0m\u001b[0m__age\u001b[0m\u001b[0;34m)\u001b[0m\u001b[0;34m\u001b[0m\u001b[0;34m\u001b[0m\u001b[0m\n\u001b[0m\u001b[1;32m     11\u001b[0m \u001b[0;34m\u001b[0m\u001b[0m\n\u001b[1;32m     12\u001b[0m \u001b[0mob\u001b[0m \u001b[0;34m=\u001b[0m \u001b[0mpython\u001b[0m\u001b[0;34m(\u001b[0m\u001b[0;34m\"Ann\"\u001b[0m\u001b[0;34m,\u001b[0m \u001b[0;36m20\u001b[0m\u001b[0;34m,\u001b[0m\u001b[0;34m\"Kochi\"\u001b[0m\u001b[0;34m)\u001b[0m\u001b[0;34m\u001b[0m\u001b[0;34m\u001b[0m\u001b[0m\n",
      "\u001b[0;31mAttributeError\u001b[0m: 'python' object has no attribute '_python__age'"
     ]
    }
   ],
   "source": [
    "class python(students):\n",
    "    def __init__(self,name,age,location):\n",
    "        super().__init__(name,age) \n",
    "        self._location=location\n",
    "\n",
    "    def show(self):\n",
    "            # accessing private data member\n",
    "            print(\"Name: \", self._name)\n",
    "\n",
    "            print(\"Age: \", self.__age)\n",
    "\n",
    "ob = python(\"Ann\", 20,\"Kochi\")\n",
    "ob.show()      "
   ]
  },
  {
   "cell_type": "code",
   "execution_count": 32,
   "id": "bc9a5962",
   "metadata": {},
   "outputs": [
    {
     "name": "stdout",
     "output_type": "stream",
     "text": [
      "Ann 20\n"
     ]
    }
   ],
   "source": [
    "class data(python):\n",
    "    def __init__(self,name,age,location):\n",
    "        super().__init__(name,age) \n",
    "        self.location=location\n",
    "\n",
    "    def show(self):\n",
    "            # accessing protected data member\n",
    "            print(\"Name: \", self._name)\n",
    "\n",
    "            print(\"Age: \", self._age)\n",
    "\n",
    "ob = python(\"Ann\", 20,\"Kochi\")\n",
    "ob._show()      "
   ]
  }
 ],
 "metadata": {
  "kernelspec": {
   "display_name": "Python 3 (ipykernel)",
   "language": "python",
   "name": "python3"
  },
  "language_info": {
   "codemirror_mode": {
    "name": "ipython",
    "version": 3
   },
   "file_extension": ".py",
   "mimetype": "text/x-python",
   "name": "python",
   "nbconvert_exporter": "python",
   "pygments_lexer": "ipython3",
   "version": "3.9.13"
  }
 },
 "nbformat": 4,
 "nbformat_minor": 5
}
